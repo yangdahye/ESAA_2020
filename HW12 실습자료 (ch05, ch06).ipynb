{
 "cells": [
  {
   "cell_type": "markdown",
   "metadata": {},
   "source": [
    "#### [chapter 5.5 연습문제 8번]"
   ]
  },
  {
   "cell_type": "code",
   "execution_count": 1,
   "metadata": {},
   "outputs": [],
   "source": [
    "import os\n",
    "import numpy as np\n",
    "\n",
    "# 일관된 출력을 위해 유사난수 초기화\n",
    "np.random.seed(42)\n",
    "\n",
    "%matplotlib inline\n",
    "import matplotlib\n",
    "import matplotlib.pyplot as plt\n",
    "import seaborn as sn\n",
    "sn.set()\n",
    "plt.rcParams['axes.labelsize'] = 14\n",
    "plt.rcParams['xtick.labelsize'] = 12\n",
    "plt.rcParams['ytick.labelsize'] = 12\n",
    "\n",
    "# 한글출력\n",
    "# matplotlib.rc('font', family='AppleGothic')  # MacOS\n",
    "matplotlib.rc('font', family='Malgun Gothic')  # Windows\n",
    "plt.rcParams['axes.unicode_minus'] = False"
   ]
  },
  {
   "cell_type": "code",
   "execution_count": 6,
   "metadata": {},
   "outputs": [],
   "source": [
    "from sklearn.svm import LinearSVC,SVC\n",
    "from sklearn.linear_model import SGDClassifier\n",
    "from sklearn.preprocessing import StandardScaler\n",
    "import numpy as np\n",
    "from sklearn import datasets\n",
    "\n",
    "iris = datasets.load_iris()\n",
    "X = iris[\"data\"][:, (2, 3)]  # 꽃잎 길이, 꽃잎 너비\n",
    "y = iris[\"target\"]\n",
    "\n",
    "setosa_or_versicolor = (y == 0) | (y == 1)\n",
    "X = X[setosa_or_versicolor]\n",
    "y = y[setosa_or_versicolor]"
   ]
  },
  {
   "cell_type": "code",
   "execution_count": 7,
   "metadata": {},
   "outputs": [],
   "source": [
    "C = 5\n",
    "alpha = 1 / (C*len(X))"
   ]
  },
  {
   "cell_type": "code",
   "execution_count": 9,
   "metadata": {},
   "outputs": [
    {
     "data": {
      "text/plain": [
       "SGDClassifier(alpha=0.002, eta0=0.001, learning_rate='constant', max_iter=10000,\n",
       "              random_state=42)"
      ]
     },
     "execution_count": 9,
     "metadata": {},
     "output_type": "execute_result"
    }
   ],
   "source": [
    "lin_svc = LinearSVC(loss='hinge',C=C,random_state=42)\n",
    "svc= SVC(kernel='linear',C=C)\n",
    "sgd_clf = SGDClassifier(loss='hinge',learning_rate='constant',eta0=0.001,tol=0.001,alpha=alpha,max_iter=10000,random_state=42)\n",
    "scaler = StandardScaler()\n",
    "X_scaled = scaler.fit_transform(X)\n",
    "lin_svc.fit(X_scaled,y)\n",
    "svc.fit(X_scaled,y)\n",
    "sgd_clf.fit(X_scaled,y)"
   ]
  },
  {
   "cell_type": "code",
   "execution_count": 11,
   "metadata": {},
   "outputs": [],
   "source": [
    "w1 = - lin_svc.coef_[0,0] / lin_svc.coef_[0,1]\n",
    "b1 = - lin_svc.intercept_[0] / lin_svc.coef_[0,1]\n",
    "w2 = - svc.coef_[0,0] / svc.coef_[0,1]\n",
    "b2 = - svc.intercept_[0] / svc.coef_[0,1]\n",
    "w3 = - sgd_clf.coef_[0,0] / sgd_clf.coef_[0,1]\n",
    "b3 = - sgd_clf.intercept_[0] / sgd_clf.coef_[0,1]"
   ]
  },
  {
   "cell_type": "code",
   "execution_count": 13,
   "metadata": {},
   "outputs": [],
   "source": [
    "line1 = scaler.inverse_transform([[-10,-10*w1+b1],[10,10*w1+b1]])\n",
    "line2 = scaler.inverse_transform([[-10,-10*w2+b3],[10,10*w2+b2]])\n",
    "line3 = scaler.inverse_transform([[-10,-10*w3+b3],[10,10*w3+b3]])"
   ]
  },
  {
   "cell_type": "code",
   "execution_count": 29,
   "metadata": {},
   "outputs": [
    {
     "data": {
      "image/png": "[encoded data removed]",
      "text/plain": [
       "<Figure size 432x288 with 1 Axes>"
      ]
     },
     "metadata": {},
     "output_type": "display_data"
    }
   ],
   "source": [
    "plt.plot(line1[:, 0],line1[:,1],\"k--\", label=\"LinearSVC\")\n",
    "plt.plot(line2[:, 0],line2[:,1],\"b--\", label=\"SVC\")\n",
    "plt.plot(line3[:, 0],line3[:,1],\"r--\", label=\"SGDClassifier\")\n",
    "plt.plot(X[:, 0][y==0], X[:, 1][y==0], \"g^\")\n",
    "plt.plot(X[:, 0][y==1], X[:, 1][y==1], \"bs\")\n",
    "plt.axis([0,5.3,0,2])\n",
    "plt.legend(loc='upper center')\n",
    "plt.show()"
   ]
  },
  {
   "cell_type": "markdown",
   "metadata": {},
   "source": [
    "#### [chapter 6.10 연습문제 2번]"
   ]
  },
  {
   "cell_type": "markdown",
   "metadata": {},
   "source": [
    "한 노드의 지니 불순도는 일반적으로 부모의 불순도보다 작다.\n",
    "이유는 자식의 지니 불순도의 가중치 합을 최소화하기 위해 각 노드를 분할하는 CART 알고리즘의 비용함수(cost function) 때문이다."
   ]
  },
  {
   "cell_type": "markdown",
   "metadata": {},
   "source": [
    "CART 알고리즘의 비용 함수(cost function)는 다음과 같다.\n",
    "\n",
    "$$\n",
    "J\\left(k, t_k \\right) = \\frac{m_{\\text{left}}}{m} G_{\\text{left}} + \\frac{m_{\\text{right}}}{m} G_{\\text{right}}\n",
    "$$\n",
    "- $G_{\\text{left/right}}$ : 왼쪽/오른쪽 자식노드의 불순도(지니계수)\n",
    "- $m_{\\text{left/right}}$ : 왼쪽/오른쪽 자식노드의 데이터(샘플) 수\n",
    "\n",
    "이 비용함수를 최소화할 수 있게 분할한다,"
   ]
  },
  {
   "cell_type": "markdown",
   "metadata": {},
   "source": [
    "#### [chapter 6.10 연습문제 3번 변형] 결정 트리가 훈련 세트에 과대적합되었을 때의 해결방안을 2가지 이상 서술해주세요. (어떤 하이퍼파라미터를 어떻게 조정해야하는지를 서술하시면 됩니다.)\n",
    "\n"
   ]
  },
  {
   "cell_type": "markdown",
   "metadata": {},
   "source": [
    "모델을 규제해야하기 때문에 매개변수에서 min_으로 시작하는 매개변수를 증가 시키거나, max_로 시작하는 매개변수를 감소시킨다."
   ]
  }
 ],
 "metadata": {
  "kernelspec": {
   "display_name": "Python 3",
   "language": "python",
   "name": "python3"
  },
  "language_info": {
   "codemirror_mode": {
    "name": "ipython",
    "version": 3
   },
   "file_extension": ".py",
   "mimetype": "text/x-python",
   "name": "python",
   "nbconvert_exporter": "python",
   "pygments_lexer": "ipython3",
   "version": "3.8.3"
  }
 },
 "nbformat": 4,
 "nbformat_minor": 4
}
