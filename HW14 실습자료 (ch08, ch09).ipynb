{
 "cells": [
  {
   "cell_type": "markdown",
   "metadata": {},
   "source": [
    "#### 1. CH08-연습문제 1번  데이터셋의 차원을 축소하는 주요 목적은 무엇인가요? 대표적인 단점은 무엇인가요?\n",
    "\n"
   ]
  },
  {
   "cell_type": "markdown",
   "metadata": {},
   "source": [
    "주요 목적: 알고리즘의 속도가 빨라지고, 메모리 공간을 절약할 수 있다. 단점: 정보 손실로 인해 성능이 저하되고 변환된 데이터에 대한 이해가 어렵다."
   ]
  },
  {
   "cell_type": "markdown",
   "metadata": {},
   "source": [
    "#### 2. CH08-연습문제 7번  어떤 데이터셋에 적용한 차원 축소 알고리즘의 성능을 어떻게 평가할 수 있을까요?\n",
    "\n"
   ]
  },
  {
   "cell_type": "markdown",
   "metadata": {},
   "source": [
    "재구성 오차를 측정하거나 전처리 단계를 사용하면 성능을 측정할 수 있다. 이때 원본 데이터와 유사한 성능을 내야한다."
   ]
  },
  {
   "cell_type": "markdown",
   "metadata": {},
   "source": [
    "#### 3. CH09-연습문제 3번  k-평균을 사용할 때 적절한 클러스터 개수를 선택할 수 있는 두 가지 기법을 설명하세요.\n",
    "\n",
    "\n",
    "\n"
   ]
  },
  {
   "cell_type": "markdown",
   "metadata": {},
   "source": [
    "엘보 규칙이 있다. 클러스터 개수의 함수로 이너셔를 그리고 그래프에서 이너셔가 빠르게 감소하지 않는 지점을 찾는다. 이 지점이 일반적으로 최적의 클러스터 개수와 가깝다. 또 다른 방법으로는 클러스터 개수의 함수로 실루엣 점수를 그리는 것이 있다. 그래프에서 뾰족하게 올라간 지점이 클러스터 개수라고 할 수 있다."
   ]
  }
 ],
 "metadata": {
  "kernelspec": {
   "display_name": "Python 3",
   "language": "python",
   "name": "python3"
  },
  "language_info": {
   "codemirror_mode": {
    "name": "ipython",
    "version": 3
   },
   "file_extension": ".py",
   "mimetype": "text/x-python",
   "name": "python",
   "nbconvert_exporter": "python",
   "pygments_lexer": "ipython3",
   "version": "3.8.3"
  }
 },
 "nbformat": 4,
 "nbformat_minor": 4
}
